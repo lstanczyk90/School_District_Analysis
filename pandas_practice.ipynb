{
 "cells": [
  {
   "cell_type": "code",
   "execution_count": 5,
   "id": "fb2d6ee9",
   "metadata": {},
   "outputs": [],
   "source": [
    "# List of high schools\n",
    "high_schools = [\"Huang High School\",  \"Figueroa High School\", \"Shelton High School\", \"Hernandez High School\",\"Griffin High School\",\"Wilson High School\", \"Cabrera High School\", \"Bailey High School\", \"Holden High School\", \"Pena High School\", \"Wright High School\",\"Rodriguez High School\", \"Johnson High School\", \"Ford High School\", \"Thomas High School\"]"
   ]
  },
  {
   "cell_type": "code",
   "execution_count": 6,
   "id": "c9c44913",
   "metadata": {},
   "outputs": [],
   "source": [
    "# Add the Pandas dependency\n",
    "import pandas as pd\n",
    "    "
   ]
  },
  {
   "cell_type": "code",
   "execution_count": 8,
   "id": "5eacb553",
   "metadata": {
    "scrolled": true
   },
   "outputs": [
    {
     "data": {
      "text/plain": [
       "0         Huang High School\n",
       "1      Figueroa High School\n",
       "2       Shelton High School\n",
       "3     Hernandez High School\n",
       "4       Griffin High School\n",
       "5        Wilson High School\n",
       "6       Cabrera High School\n",
       "7        Bailey High School\n",
       "8        Holden High School\n",
       "9          Pena High School\n",
       "10       Wright High School\n",
       "11    Rodriguez High School\n",
       "12      Johnson High School\n",
       "13         Ford High School\n",
       "14       Thomas High School\n",
       "dtype: object"
      ]
     },
     "execution_count": 8,
     "metadata": {},
     "output_type": "execute_result"
    }
   ],
   "source": [
    "# Create a Pandas Series from a List\n",
    "school_series = pd.Series(high_schools)\n",
    "school_series"
   ]
  },
  {
   "cell_type": "code",
   "execution_count": 9,
   "id": "6839f757",
   "metadata": {},
   "outputs": [
    {
     "name": "stdout",
     "output_type": "stream",
     "text": [
      "Huang High School\n",
      "Figueroa High School\n",
      "Shelton High School\n",
      "Hernandez High School\n",
      "Griffin High School\n",
      "Wilson High School\n",
      "Cabrera High School\n",
      "Bailey High School\n",
      "Holden High School\n",
      "Pena High School\n",
      "Wright High School\n",
      "Rodriguez High School\n",
      "Johnson High School\n",
      "Ford High School\n",
      "Thomas High School\n"
     ]
    }
   ],
   "source": [
    "for schools in school_series:\n",
    "    print(schools)"
   ]
  },
  {
   "cell_type": "code",
   "execution_count": 12,
   "id": "5c24ca04",
   "metadata": {},
   "outputs": [],
   "source": [
    "# Three separate lists of information on high schools\n",
    "\n",
    "school_id = [0,1,2,3,4]\n",
    "\n",
    "school_name =  [\"Huang High School\", \"Figueroa High School\",\n",
    "\"Shelton High School\", \"Hernandez High School\",\"Griffin High School\"]\n",
    "\n",
    "type_of_school = [\"District\", \"District\", \"Charter\", \"District\",\"Charter\"]\n"
   ]
  },
  {
   "cell_type": "code",
   "execution_count": 13,
   "id": "24f75688",
   "metadata": {},
   "outputs": [],
   "source": [
    "# Initialize a new DataFrame\n",
    "\n",
    "schools_df =  pd.DataFrame()"
   ]
  },
  {
   "cell_type": "code",
   "execution_count": 15,
   "id": "e5518f1e",
   "metadata": {},
   "outputs": [
    {
     "data": {
      "text/html": [
       "<div>\n",
       "<style scoped>\n",
       "    .dataframe tbody tr th:only-of-type {\n",
       "        vertical-align: middle;\n",
       "    }\n",
       "\n",
       "    .dataframe tbody tr th {\n",
       "        vertical-align: top;\n",
       "    }\n",
       "\n",
       "    .dataframe thead th {\n",
       "        text-align: right;\n",
       "    }\n",
       "</style>\n",
       "<table border=\"1\" class=\"dataframe\">\n",
       "  <thead>\n",
       "    <tr style=\"text-align: right;\">\n",
       "      <th></th>\n",
       "      <th>School ID</th>\n",
       "      <th>School Name</th>\n",
       "      <th>Type</th>\n",
       "    </tr>\n",
       "  </thead>\n",
       "  <tbody>\n",
       "    <tr>\n",
       "      <th>0</th>\n",
       "      <td>0</td>\n",
       "      <td>Huang High School</td>\n",
       "      <td>District</td>\n",
       "    </tr>\n",
       "    <tr>\n",
       "      <th>1</th>\n",
       "      <td>1</td>\n",
       "      <td>Figueroa High School</td>\n",
       "      <td>District</td>\n",
       "    </tr>\n",
       "    <tr>\n",
       "      <th>2</th>\n",
       "      <td>2</td>\n",
       "      <td>Shelton High School</td>\n",
       "      <td>Charter</td>\n",
       "    </tr>\n",
       "    <tr>\n",
       "      <th>3</th>\n",
       "      <td>3</td>\n",
       "      <td>Hernandez High School</td>\n",
       "      <td>District</td>\n",
       "    </tr>\n",
       "    <tr>\n",
       "      <th>4</th>\n",
       "      <td>4</td>\n",
       "      <td>Griffin High School</td>\n",
       "      <td>Charter</td>\n",
       "    </tr>\n",
       "  </tbody>\n",
       "</table>\n",
       "</div>"
      ],
      "text/plain": [
       "   School ID            School Name      Type\n",
       "0          0      Huang High School  District\n",
       "1          1   Figueroa High School  District\n",
       "2          2    Shelton High School   Charter\n",
       "3          3  Hernandez High School  District\n",
       "4          4    Griffin High School   Charter"
      ]
     },
     "execution_count": 15,
     "metadata": {},
     "output_type": "execute_result"
    }
   ],
   "source": [
    "# Add the list to a new DataFrame\n",
    "\n",
    "schools_df[\"School ID\"] = school_id\n",
    "\n",
    "schools_df[\"School Name\"] = school_name\n",
    "\n",
    "schools_df[\"Type\"] = type_of_school\n",
    "\n",
    "schools_df"
   ]
  },
  {
   "cell_type": "code",
   "execution_count": 1,
   "id": "0a789fa1",
   "metadata": {},
   "outputs": [],
   "source": [
    "def saying_something(something):\n",
    "    print(something)\n",
    "    \n"
   ]
  },
  {
   "cell_type": "code",
   "execution_count": null,
   "id": "561dc8c2",
   "metadata": {},
   "outputs": [],
   "source": [
    "saying_something(\"H\")"
   ]
  }
 ],
 "metadata": {
  "kernelspec": {
   "display_name": "PythonData",
   "language": "python",
   "name": "pythondata"
  },
  "language_info": {
   "codemirror_mode": {
    "name": "ipython",
    "version": 3
   },
   "file_extension": ".py",
   "mimetype": "text/x-python",
   "name": "python",
   "nbconvert_exporter": "python",
   "pygments_lexer": "ipython3",
   "version": "3.7.10"
  }
 },
 "nbformat": 4,
 "nbformat_minor": 5
}
